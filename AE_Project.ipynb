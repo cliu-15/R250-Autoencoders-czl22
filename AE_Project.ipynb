{
  "nbformat": 4,
  "nbformat_minor": 0,
  "metadata": {
    "colab": {
      "name": "AE_Project.ipynb",
      "provenance": [],
      "toc_visible": true,
      "include_colab_link": true
    },
    "kernelspec": {
      "name": "python3",
      "display_name": "Python 3"
    }
  },
  "cells": [
    {
      "cell_type": "markdown",
      "metadata": {
        "id": "view-in-github",
        "colab_type": "text"
      },
      "source": [
        "<a href=\"https://colab.research.google.com/github/cliu-15/R250-Autoencoders-czl22/blob/master/AE_Project.ipynb\" target=\"_parent\"><img src=\"https://colab.research.google.com/assets/colab-badge.svg\" alt=\"Open In Colab\"/></a>"
      ]
    },
    {
      "cell_type": "markdown",
      "metadata": {
        "id": "jqwZO_72LlC1",
        "colab_type": "text"
      },
      "source": [
        "# New Section"
      ]
    },
    {
      "cell_type": "markdown",
      "metadata": {
        "id": "QWIk9n37LhVz",
        "colab_type": "text"
      },
      "source": [
        "Read-in / Pre-process Dataset"
      ]
    },
    {
      "cell_type": "code",
      "metadata": {
        "id": "4DX4Qzm1nJwm",
        "colab_type": "code",
        "outputId": "c7245e96-b5fb-4beb-efb3-1fc5636856b3",
        "colab": {
          "base_uri": "https://localhost:8080/",
          "height": 54
        }
      },
      "source": [
        "from google.colab import drive\n",
        "drive.mount('/content/drive')\n",
        "\n",
        "import sys\n",
        "sys.path.append('/content/drive/My Drive')"
      ],
      "execution_count": 0,
      "outputs": [
        {
          "output_type": "stream",
          "text": [
            "Drive already mounted at /content/drive; to attempt to forcibly remount, call drive.mount(\"/content/drive\", force_remount=True).\n"
          ],
          "name": "stdout"
        }
      ]
    },
    {
      "cell_type": "code",
      "metadata": {
        "id": "4ySK7uN8_-PT",
        "colab_type": "code",
        "colab": {}
      },
      "source": [
        "import itertools\n",
        "import numpy as np\n",
        "import matplotlib.pyplot as plt\n",
        "import torch\n",
        "import torch.optim as optim\n",
        "import torch.nn as nn\n",
        "import torchvision\n",
        "import sklearn.decomposition\n",
        "\n",
        "import IPython\n",
        "from utils import interrupted, enumerate_cycle\n",
        "from utils import mnist, mnist_batched\n",
        "from intro_ae import SimpleAE"
      ],
      "execution_count": 0,
      "outputs": []
    },
    {
      "cell_type": "code",
      "metadata": {
        "id": "C4qo32CCq365",
        "colab_type": "code",
        "colab": {}
      },
      "source": [
        ""
      ],
      "execution_count": 0,
      "outputs": []
    },
    {
      "cell_type": "markdown",
      "metadata": {
        "id": "p5pHTwavPHvf",
        "colab_type": "text"
      },
      "source": [
        "PCA with dataset"
      ]
    },
    {
      "cell_type": "markdown",
      "metadata": {
        "id": "Al2Gxn3APH6S",
        "colab_type": "text"
      },
      "source": [
        "PCA-like autoencoder (based on paper)"
      ]
    },
    {
      "cell_type": "markdown",
      "metadata": {
        "id": "pGQaNDjZPODM",
        "colab_type": "text"
      },
      "source": [
        "Semi-linear nested dropout autoencoder (based on paper)"
      ]
    },
    {
      "cell_type": "markdown",
      "metadata": {
        "id": "Wkc3K3EKPOMB",
        "colab_type": "text"
      },
      "source": [
        "B-VAE (based on paper)"
      ]
    },
    {
      "cell_type": "markdown",
      "metadata": {
        "id": "_vQ2x2tBPcbB",
        "colab_type": "text"
      },
      "source": [
        "Other types of AE???"
      ]
    },
    {
      "cell_type": "code",
      "metadata": {
        "id": "r0vFmAfULa42",
        "colab_type": "code",
        "colab": {}
      },
      "source": [
        ""
      ],
      "execution_count": 0,
      "outputs": []
    },
    {
      "cell_type": "markdown",
      "metadata": {
        "id": "061QzxbaL1xm",
        "colab_type": "text"
      },
      "source": [
        "# Notes"
      ]
    },
    {
      "cell_type": "markdown",
      "metadata": {
        "id": "GIrVlNHbL7O1",
        "colab_type": "text"
      },
      "source": [
        "Project 2. PCA produces an ordered list of orthogonal latent variables. Compare approaches for achieving the same with autoencoders. \n",
        "Relevant papers:\n",
        "*   A PCA-like autoencoder (https://arxiv.org/abs/1904.01277)\n",
        "*   Learning Ordered Representations with Nested Dropout (https://arxiv.org/abs/1402.0915)\n",
        "*   The β-VAE paper we studied\n",
        "\n",
        "\n",
        "\n"
      ]
    },
    {
      "cell_type": "markdown",
      "metadata": {
        "id": "YsgmKMgjMMTS",
        "colab_type": "text"
      },
      "source": [
        "Papers notes:\n"
      ]
    },
    {
      "cell_type": "markdown",
      "metadata": {
        "id": "olzZLZ9JMSNB",
        "colab_type": "text"
      },
      "source": [
        "PCA background:\n",
        "- Ordered list of othogonal latent variables"
      ]
    },
    {
      "cell_type": "code",
      "metadata": {
        "id": "Zs4BoCuIL6oL",
        "colab_type": "code",
        "colab": {}
      },
      "source": [
        ""
      ],
      "execution_count": 0,
      "outputs": []
    }
  ]
}